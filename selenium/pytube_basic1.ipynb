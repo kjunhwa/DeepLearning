{
 "cells": [
  {
   "cell_type": "markdown",
   "metadata": {},
   "source": [
    "## Download the videos in youtube by URL\n",
    "\n",
    "## Install\n",
    "\n",
    "pip install pytube"
   ]
  },
  {
   "cell_type": "code",
   "execution_count": 1,
   "metadata": {},
   "outputs": [],
   "source": [
    "import os\n",
    "from pytube import YouTube\n",
    "import numpy as np\n",
    "\n",
    "link_list = [] # 다운로드 받을 유튜브 URL을 저장할 List"
   ]
  },
  {
   "cell_type": "markdown",
   "metadata": {},
   "source": [
    "## Fill the download_list URL in the download_list.txt and Run the cell"
   ]
  },
  {
   "cell_type": "code",
   "execution_count": 2,
   "metadata": {},
   "outputs": [],
   "source": [
    "with open(\"download_list.txt\", 'r') as f:\n",
    "    for lines in f:\n",
    "        link_list.append(lines)"
   ]
  },
  {
   "cell_type": "code",
   "execution_count": 3,
   "metadata": {},
   "outputs": [
    {
     "name": "stdout",
     "output_type": "stream",
     "text": [
      "len_link_list : 1\n",
      "['https://www.youtube.com/watch?v=_T6wfQYR064']\n"
     ]
    }
   ],
   "source": [
    "# Check the information\n",
    "print(\"len_link_list : %d\"%(len(link_list)))\n",
    "print(link_list)"
   ]
  },
  {
   "cell_type": "code",
   "execution_count": 4,
   "metadata": {},
   "outputs": [],
   "source": [
    "for i, links in enumerate(link_list):\n",
    "    video = YouTube(links)\n",
    "    video.streams.filter(progressive=True, file_extension='mp4').order_by('resolution').desc().first().download('./videos') \n",
    "    \n",
    "    # The video will be downloaded in the videos folder"
   ]
  },
  {
   "cell_type": "markdown",
   "metadata": {},
   "source": [
    "#### Next time, I will introduce how to automatically receive the YouTube video url."
   ]
  },
  {
   "cell_type": "code",
   "execution_count": null,
   "metadata": {},
   "outputs": [],
   "source": []
  }
 ],
 "metadata": {
  "kernelspec": {
   "display_name": "Python 3",
   "language": "python",
   "name": "python3"
  },
  "language_info": {
   "codemirror_mode": {
    "name": "ipython",
    "version": 3
   },
   "file_extension": ".py",
   "mimetype": "text/x-python",
   "name": "python",
   "nbconvert_exporter": "python",
   "pygments_lexer": "ipython3",
   "version": "3.6.5"
  }
 },
 "nbformat": 4,
 "nbformat_minor": 2
}
