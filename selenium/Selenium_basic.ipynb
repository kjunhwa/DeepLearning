{
 "cells": [
  {
   "cell_type": "markdown",
   "metadata": {},
   "source": [
    "## Selenium\n",
    "\n",
    "Selenium은 다양한 브라우저 및 플랫폼이나 웹 응용 프로그램을 위한 자동화 테스팅 프레임워크 입니다. \n"
   ]
  },
  {
   "cell_type": "markdown",
   "metadata": {},
   "source": [
    "## Selenium Install\n",
    "\n",
    "pip install selenium\n",
    "\n",
    "## Driver download\n",
    "\n",
    "https://chromedriver.chromium.org/downloads\n",
    "\n",
    "위의 주소에서 보인의 크롬 버전과 동일한 driver를 다운받는다."
   ]
  },
  {
   "cell_type": "markdown",
   "metadata": {},
   "source": [
    "## Basic ex 1)\n",
    "\n"
   ]
  },
  {
   "cell_type": "code",
   "execution_count": 3,
   "metadata": {},
   "outputs": [],
   "source": [
    "from selenium import webdriver\n",
    "\n",
    "path = \"chromedriver.exe\" # driver의 파일 위치\n",
    "\n",
    "driver = webdriver.Chrome(path) # Selenium의 webdriver로 크롬 브라우저를 실행\n"
   ]
  },
  {
   "cell_type": "markdown",
   "metadata": {},
   "source": [
    "위의 작업이 성공했다면 다음과 같이 크롬 브라우저가 열릴 것입니다.\n",
    "![chrome_data](basic_figure_1.PNG)"
   ]
  },
  {
   "cell_type": "code",
   "execution_count": 8,
   "metadata": {},
   "outputs": [],
   "source": [
    "driver.get(\"https://www.google.co.kr\") # 구글 페이지에 접속해봅니다."
   ]
  },
  {
   "cell_type": "code",
   "execution_count": 5,
   "metadata": {},
   "outputs": [],
   "source": [
    "driver.get(\"https://www.naver.co.kr\") # 네이버 페이지에 접속해봅니다."
   ]
  },
  {
   "cell_type": "code",
   "execution_count": 10,
   "metadata": {},
   "outputs": [],
   "source": [
    "my_search = driver.find_element_by_name(\"q\") # 드라이버에서 지정한 검색어로 검색 입력 부분에 명령을 내리기 위한 준비\n",
    "# driver는 google 페이지로 바꿔주고 실행\n",
    "my_search.clear() # 입력 부분을 비운다.\n",
    "\n",
    "my_search.send_keys(\"apple\") # send_keys를 통해 ()안의 검색어를 입력한다.\n",
    "\n",
    "my_search.submit() # 검색을 실행한다."
   ]
  },
  {
   "cell_type": "markdown",
   "metadata": {},
   "source": [
    "위의 작업이 성공했다면 다음과 같이 크롬 브라우저에서 apple을 검색한 결과가 열릴 것입니다.\n",
    "![chrome_data](basic_figure_2_apple.PNG)"
   ]
  },
  {
   "cell_type": "code",
   "execution_count": 11,
   "metadata": {},
   "outputs": [],
   "source": [
    "driver.close()# 사용을 완료했다면 종료합니다."
   ]
  }
 ],
 "metadata": {
  "kernelspec": {
   "display_name": "Python 3",
   "language": "python",
   "name": "python3"
  },
  "language_info": {
   "codemirror_mode": {
    "name": "ipython",
    "version": 3
   },
   "file_extension": ".py",
   "mimetype": "text/x-python",
   "name": "python",
   "nbconvert_exporter": "python",
   "pygments_lexer": "ipython3",
   "version": "3.6.5"
  }
 },
 "nbformat": 4,
 "nbformat_minor": 2
}
