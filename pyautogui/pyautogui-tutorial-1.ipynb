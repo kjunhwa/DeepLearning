{
 "cells": [
  {
   "cell_type": "markdown",
   "metadata": {},
   "source": [
    "### What is pyautogui??\n",
    "\n",
    "PyAutoGUI is a cross-platform Python module for automatic mouse / keyboard control.\n",
    "\n",
    "### Install\n",
    "\n",
    "pip install pyautogui\n"
   ]
  },
  {
   "cell_type": "markdown",
   "metadata": {},
   "source": [
    "## 1. Get current position  and monitor size\n",
    "\n"
   ]
  },
  {
   "cell_type": "code",
   "execution_count": 5,
   "metadata": {},
   "outputs": [
    {
     "name": "stdout",
     "output_type": "stream",
     "text": [
      "Point(x=666, y=497)\n",
      "Size(width=1920, height=1080)\n"
     ]
    }
   ],
   "source": [
    "import pyautogui\n",
    "import time\n",
    "print(pyautogui.position())\n",
    "print(pyautogui.size())"
   ]
  },
  {
   "cell_type": "markdown",
   "metadata": {},
   "source": [
    "## 2. Move position using x and y coordinates and click\n",
    "\n"
   ]
  },
  {
   "cell_type": "code",
   "execution_count": 7,
   "metadata": {},
   "outputs": [],
   "source": [
    "pyautogui.moveTo(200, 200)\n",
    "pyautogui.click()"
   ]
  },
  {
   "cell_type": "code",
   "execution_count": 8,
   "metadata": {},
   "outputs": [],
   "source": [
    "# Same code\n",
    "pyautogui.click(200, 200, button='right') # buttom can be left or right or middle"
   ]
  },
  {
   "cell_type": "code",
   "execution_count": 10,
   "metadata": {},
   "outputs": [],
   "source": [
    "# Double click, it need short  interval time\n",
    "pyautogui.click(200, 200, clicks=2, interval=0.5)"
   ]
  },
  {
   "cell_type": "code",
   "execution_count": 12,
   "metadata": {},
   "outputs": [],
   "source": [
    "# Move the x, y coordinates with value\n",
    "pyautogui.moveRel(0, 50)\n",
    "pyautogui.doubleClick() # clicks=2, interval=0.5"
   ]
  },
  {
   "cell_type": "code",
   "execution_count": 13,
   "metadata": {},
   "outputs": [],
   "source": [
    "# Mouse drag\n",
    "pyautogui.dragTo(600, 400, 3, button='left')\n",
    "pyautogui.dragRel(330, 20, 2, button='right')"
   ]
  },
  {
   "cell_type": "markdown",
   "metadata": {},
   "source": [
    "### 3. Click the position and type some words"
   ]
  },
  {
   "cell_type": "code",
   "execution_count": 24,
   "metadata": {},
   "outputs": [],
   "source": [
    "x,y = pyautogui.position()\n",
    "y = y+100\n",
    "pyautogui.click(x,y)\n",
    "pyautogui.typewrite('Hello world!', interval=0.1) # Put your mouse on line 2 and See the below sentence!"
   ]
  },
  {
   "cell_type": "code",
   "execution_count": null,
   "metadata": {},
   "outputs": [],
   "source": [
    "Hello world!"
   ]
  },
  {
   "cell_type": "code",
   "execution_count": 25,
   "metadata": {},
   "outputs": [],
   "source": [
    "x,y = pyautogui.position()\n",
    "y = y+100\n",
    "pyautogui.click(x,y)\n",
    "pyautogui.typewrite(['a', 'b', 'c'], interval=0.1)# Put your mouse on line 2 and See the below sentence!"
   ]
  },
  {
   "cell_type": "code",
   "execution_count": null,
   "metadata": {},
   "outputs": [],
   "source": [
    "ABc"
   ]
  },
  {
   "cell_type": "code",
   "execution_count": 32,
   "metadata": {},
   "outputs": [
    {
     "name": "stdout",
     "output_type": "stream",
     "text": [
      "None\n"
     ]
    }
   ],
   "source": [
    "x,y = pyautogui.position()\n",
    "y = y+100\n",
    "pyautogui.click(x,y)\n",
    "a = pyautogui.typewrite(['abc'])\n",
    "print(a)# Put your mouse on line 3 and See the below sentence!\n",
    "# It will make error , becasue we don't 'abc' key in our keyboard. Then let's change 'abc' to 'enter'"
   ]
  },
  {
   "cell_type": "code",
   "execution_count": 33,
   "metadata": {},
   "outputs": [
    {
     "name": "stdout",
     "output_type": "stream",
     "text": [
      "None\n"
     ]
    }
   ],
   "source": [
    "x,y = pyautogui.position()\n",
    "y = y+100\n",
    "pyautogui.click(x,y)\n",
    "a = pyautogui.typewrite(['enter'])\n",
    "print(a) # It will make new cell, because 'enter' is in our keyboard"
   ]
  },
  {
   "cell_type": "code",
   "execution_count": null,
   "metadata": {},
   "outputs": [],
   "source": []
  },
  {
   "cell_type": "code",
   "execution_count": null,
   "metadata": {},
   "outputs": [],
   "source": [
    "print(pyautogui.KEYBOARD_KEYS) # Y"
   ]
  }
 ],
 "metadata": {
  "kernelspec": {
   "display_name": "Python 3",
   "language": "python",
   "name": "python3"
  },
  "language_info": {
   "codemirror_mode": {
    "name": "ipython",
    "version": 3
   },
   "file_extension": ".py",
   "mimetype": "text/x-python",
   "name": "python",
   "nbconvert_exporter": "python",
   "pygments_lexer": "ipython3",
   "version": "3.6.8"
  }
 },
 "nbformat": 4,
 "nbformat_minor": 2
}
