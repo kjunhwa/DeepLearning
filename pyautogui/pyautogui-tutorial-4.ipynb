{
 "cells": [
  {
   "cell_type": "markdown",
   "metadata": {},
   "source": [
    "### What is pyautogui??\n",
    "\n",
    "PyAutoGUI is a cross-platform Python module for automatic mouse / keyboard control.\n",
    "\n",
    "### Install\n",
    "\n",
    "pip install pyautogui\n",
    "\n",
    "# 5. Fail-safes"
   ]
  },
  {
   "cell_type": "code",
   "execution_count": 2,
   "metadata": {},
   "outputs": [],
   "source": [
    "# If the code is programmed incorrectly, it can be difficult to control the mouse and keyboard.\n",
    "#There are safeguards for this situation.\n",
    "\n",
    "import pyautogui\n",
    "\n",
    "pyautogui.FAILSAFE = True # If you don't want to use this Fail-safes, set True to False."
   ]
  },
  {
   "cell_type": "code",
   "execution_count": 6,
   "metadata": {},
   "outputs": [],
   "source": [
    "# Delay with .PAUSE\n",
    "# It makes delcay for every code\n",
    "pyautogui.PAUSE = 2.5\n",
    "pyautogui.moveTo(200, 200)\n",
    "pyautogui.click()"
   ]
  },
  {
   "cell_type": "code",
   "execution_count": null,
   "metadata": {},
   "outputs": [],
   "source": []
  },
  {
   "cell_type": "code",
   "execution_count": null,
   "metadata": {},
   "outputs": [],
   "source": []
  }
 ],
 "metadata": {
  "kernelspec": {
   "display_name": "Python 3",
   "language": "python",
   "name": "python3"
  },
  "language_info": {
   "codemirror_mode": {
    "name": "ipython",
    "version": 3
   },
   "file_extension": ".py",
   "mimetype": "text/x-python",
   "name": "python",
   "nbconvert_exporter": "python",
   "pygments_lexer": "ipython3",
   "version": "3.6.8"
  }
 },
 "nbformat": 4,
 "nbformat_minor": 2
}
