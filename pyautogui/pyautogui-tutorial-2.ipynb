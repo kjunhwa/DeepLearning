{
 "cells": [
  {
   "cell_type": "markdown",
   "metadata": {},
   "source": [
    "### What is pyautogui??\n",
    "\n",
    "PyAutoGUI is a cross-platform Python module for automatic mouse / keyboard control.\n",
    "\n",
    "### Install\n",
    "\n",
    "pip install pyautogui\n"
   ]
  },
  {
   "cell_type": "markdown",
   "metadata": {},
   "source": [
    "## 4. Screenshot with pyautogui"
   ]
  },
  {
   "cell_type": "code",
   "execution_count": 2,
   "metadata": {},
   "outputs": [],
   "source": [
    "import pyautogui\n",
    "\n",
    "im1 = pyautogui.screenshot()\n",
    "im2 = pyautogui.screenshot('Fullscreen_screenshot.png')\n",
    "im3 = pyautogui.screenshot('CustomRegion_screenshot.png', region=(0, 0, 500, 300)) # region = (start_x, start_y, move_x, move_y)"
   ]
  },
  {
   "cell_type": "markdown",
   "metadata": {},
   "source": [
    "## 5. Move mouse to image\n",
    "\n",
    "Open your calculator as below\n",
    "\n",
    "![chrome_data](calculator.PNG)\n",
    "\n",
    "And crop the number and save, I choose 7."
   ]
  },
  {
   "cell_type": "code",
   "execution_count": 9,
   "metadata": {},
   "outputs": [
    {
     "name": "stdout",
     "output_type": "stream",
     "text": [
      "Box(left=1108, top=624, width=31, height=32)\n"
     ]
    }
   ],
   "source": [
    "seven_btn = pyautogui.locateOnScreen('7.PNG')\n",
    "print(seven_btn)\n",
    "\n",
    "# (left, top, width, height)\n",
    "# If it did not find the image, it returns None"
   ]
  },
  {
   "cell_type": "code",
   "execution_count": 11,
   "metadata": {},
   "outputs": [
    {
     "name": "stdout",
     "output_type": "stream",
     "text": [
      "Point(x=1123, y=640)\n"
     ]
    }
   ],
   "source": [
    "# .center returns center position. Compare the above value.\n",
    "center = pyautogui.center(five_btn)\n",
    "print(center)\n",
    "\n"
   ]
  },
  {
   "cell_type": "code",
   "execution_count": 15,
   "metadata": {},
   "outputs": [],
   "source": [
    "import time\n",
    "\n",
    "# Sometimes the programe need time.sleep() to wait.\n",
    "\n",
    "center = pyautogui.locateCenterOnScreen('7.PNG')\n",
    "time.sleep(0.3)\n",
    "pyautogui.click(center)"
   ]
  },
  {
   "cell_type": "markdown",
   "metadata": {},
   "source": [
    "If you success to run, the calculator's status will be changed like below.\n",
    "![chrome_data](calculator_changed.PNG)"
   ]
  },
  {
   "cell_type": "markdown",
   "metadata": {},
   "source": [
    "# See you in tutorial 3"
   ]
  },
  {
   "cell_type": "code",
   "execution_count": null,
   "metadata": {},
   "outputs": [],
   "source": []
  }
 ],
 "metadata": {
  "kernelspec": {
   "display_name": "Python 3",
   "language": "python",
   "name": "python3"
  },
  "language_info": {
   "codemirror_mode": {
    "name": "ipython",
    "version": 3
   },
   "file_extension": ".py",
   "mimetype": "text/x-python",
   "name": "python",
   "nbconvert_exporter": "python",
   "pygments_lexer": "ipython3",
   "version": "3.6.8"
  }
 },
 "nbformat": 4,
 "nbformat_minor": 2
}
